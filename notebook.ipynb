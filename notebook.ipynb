{
 "cells": [
  {
   "cell_type": "markdown",
   "metadata": {},
   "source": [
    "**Importar Datos y Partirlos**"
   ]
  },
  {
   "cell_type": "code",
   "execution_count": 2,
   "metadata": {},
   "outputs": [],
   "source": [
    "import pandas as pd\n",
    "from sklearn.linear_model import LinearRegression, Lasso, Ridge\n",
    "from sklearn.tree import DecisionTreeRegressor\n",
    "from sklearn.metrics import mean_absolute_error, mean_squared_error, r2_score\n",
    "\n",
    "test_dataset = pd.read_csv('test_dataset.csv')\n",
    "train_dataset = pd.read_csv('train_dataset.csv')\n",
    "\n",
    "x_train = train_dataset.drop(\"target\", axis=1)\n",
    "y_train = train_dataset[\"target\"]\n",
    "\n",
    "x_test = test_dataset.drop(\"target\", axis=1)\n",
    "y_test = test_dataset[\"target\"]"
   ]
  },
  {
   "cell_type": "code",
   "execution_count": 3,
   "metadata": {},
   "outputs": [
    {
     "name": "stdout",
     "output_type": "stream",
     "text": [
      "test:{'LinearRegression': 0.5690847834753974, 'Lasso': 0.3553036400092753, 'Ridge': 0.45031108849369805, 'DecisionTreeRegressor': -0.04504445185204853}\n",
      " train: {'LinearRegression': 0.484122067464441, 'Lasso': 0.29941270858380764, 'Ridge': 0.3913336490483662, 'DecisionTreeRegressor': 1.0}\n"
     ]
    }
   ],
   "source": [
    "models ={'LinearRegression':LinearRegression(),\n",
    "         'Lasso':Lasso(),\n",
    "         'Ridge':Ridge(),\n",
    "         'DecisionTreeRegressor':DecisionTreeRegressor()}\n",
    "\n",
    "r2_train = {}\n",
    "r2_test = {}\n",
    "\n",
    "for name, model in models.items():\n",
    "    model.fit(x_train,y_train)\n",
    "    y_pred_train = model.predict(x_train)\n",
    "    y_pred_test = model.predict(x_test)\n",
    "    r2_train[name] = r2_score(y_train, y_pred_train)\n",
    "    r2_test[name] = r2_score(y_test,y_pred_test)\n",
    "    \n",
    "print(f'test:{r2_test}\\n train: {r2_train}')"
   ]
  },
  {
   "cell_type": "code",
   "execution_count": 4,
   "metadata": {},
   "outputs": [],
   "source": [
    "model = LinearRegression()\n",
    "model.fit(x_train, y_train)\n",
    "y_pred_train = model.predict(x_train)\n",
    "y_pred_test = model.predict(x_test)\n",
    "\n",
    "def eval_metrics(y_true, y_pred):\n",
    "    \"\"\"Evaluate model performance.\"\"\"\n",
    "\n",
    "    mse = mean_squared_error(y_true, y_pred)\n",
    "    mae = mean_absolute_error(y_true, y_pred)\n",
    "    r2 = r2_score(y_true, y_pred)\n",
    "\n",
    "    return mse, mae, r2\n",
    "\n",
    "mse_train, mae_train, r2_train = eval_metrics(y_train, y_pred_train)\n",
    "mse_test, mae_test, r2_test = eval_metrics(y_test, y_pred_test)"
   ]
  },
  {
   "cell_type": "markdown",
   "metadata": {},
   "source": [
    "**Pickle**"
   ]
  },
  {
   "cell_type": "code",
   "execution_count": 5,
   "metadata": {},
   "outputs": [],
   "source": [
    "import pickle\n",
    "with open(\"model.pkl\", \"wb\") as file:\n",
    "    pickle.dump(model, file)"
   ]
  }
 ],
 "metadata": {
  "kernelspec": {
   "display_name": "Python 3",
   "language": "python",
   "name": "python3"
  },
  "language_info": {
   "codemirror_mode": {
    "name": "ipython",
    "version": 3
   },
   "file_extension": ".py",
   "mimetype": "text/x-python",
   "name": "python",
   "nbconvert_exporter": "python",
   "pygments_lexer": "ipython3",
   "version": "3.12.2"
  }
 },
 "nbformat": 4,
 "nbformat_minor": 2
}
